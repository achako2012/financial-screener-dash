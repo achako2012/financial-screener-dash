{
 "cells": [
  {
   "attachments": {},
   "cell_type": "markdown",
   "metadata": {},
   "source": [
    "# Financial screener Data - ICA P2"
   ]
  },
  {
   "attachments": {},
   "cell_type": "markdown",
   "metadata": {},
   "source": [
    "It's a demo project to show the possibilities of [Plotly Dash](https://dash.plotly.com/)"
   ]
  },
  {
   "attachments": {},
   "cell_type": "markdown",
   "metadata": {},
   "source": [
    "## Introduction\n",
    "\n",
    "For the ICA part 2, I decided to make an application for screening and analyzing financial data of the currency exchange market. From my perspective one of the most demanded areas of data science - is Financial. The finance industry generates lots of data. Big data in finance refers to the petabytes of structured and unstructured data that can be used for the creation of strategies for business institutions.\n",
    "\n",
    "In this notebook I want to describe the design, cleaning data approach, and code implementation steps of the application for the screen market prices application.\n",
    "\n",
    "Here are some examples of real screening services:\n",
    " - [finviz](https://finviz.com/)\n",
    " - [finance.yahoo](https://finance.yahoo.com/quote/%5EGSPC?p=%5EGSPC)\n",
    " - [investing](https://www.investing.com/equities/apple-computer-inc)\n",
    "\n",
    "Also, in this project, I'll use some principles of technical analysis of the price charts and some special terminology. Anyway, I'll try to describe everything in simple language for a non-technical person. But, if you don't have any understanding of what price charts in the market are, you would find all the basic information in this article: [Understanding Basic Candlestick Charts](https://www.investopedia.com/trading/candlestick-charting-what-is-it/)\n",
    "\n",
    "Since it's only a demo project, we will create something not complicated but with all the main features needed for a real price screening application:\n",
    "\n",
    "- Charts with different display options\n",
    "- Slider with ability to change date range\n",
    "- Indicator - another chart with some displayed price analyse\n",
    "- Cleaned and transformed data frames with different currency pairs\n",
    "- Cleaned and transformed data frames with different timeframes\n",
    "- Possobility to retrieve data by year from data frame\n",
    "- \\[Optional\\] Dark and light theme for the chart.\n",
    "\n",
    "According to the requirements our design is:\n",
    "![screener-designe](img/screener-designe.png)\n"
   ]
  },
  {
   "attachments": {},
   "cell_type": "markdown",
   "metadata": {},
   "source": [
    "## Data View\n",
    "\n",
    "The most important thing is to find proper data. I decided to take real financial data from [BITSTAMP EXCHANGE DATA](https://www.cryptodatadownload.com/data/bitstamp). From a demo perspective, I took only a few currency pairs: <span style=\"color:orange\">\"BTCEUR\"</span>, <span style=\"color:orange\">\"BTCUSD\"</span>, <span style=\"color:orange\">\"ETHBTC\"</span>, and <span style=\"color:orange\">\"ETHEUR\"</span>. Each coin pair is represented by two data frames: a day timeframe, and an hour timeframe. In total, we have 8 data frames.\n",
    "\n",
    "Let's import <span style=\"color:yellow\">pandas</span> and take a look at one of the data frames:"
   ]
  },
  {
   "cell_type": "code",
   "execution_count": 1,
   "metadata": {},
   "outputs": [
    {
     "data": {
      "text/html": [
       "<div>\n",
       "<style scoped>\n",
       "    .dataframe tbody tr th:only-of-type {\n",
       "        vertical-align: middle;\n",
       "    }\n",
       "\n",
       "    .dataframe tbody tr th {\n",
       "        vertical-align: top;\n",
       "    }\n",
       "\n",
       "    .dataframe thead th {\n",
       "        text-align: right;\n",
       "    }\n",
       "</style>\n",
       "<table border=\"1\" class=\"dataframe\">\n",
       "  <thead>\n",
       "    <tr style=\"text-align: right;\">\n",
       "      <th></th>\n",
       "      <th></th>\n",
       "      <th></th>\n",
       "      <th></th>\n",
       "      <th></th>\n",
       "      <th></th>\n",
       "      <th></th>\n",
       "      <th></th>\n",
       "      <th>https://www.CryptoDataDownload.com</th>\n",
       "    </tr>\n",
       "  </thead>\n",
       "  <tbody>\n",
       "    <tr>\n",
       "      <th>unix</th>\n",
       "      <th>date</th>\n",
       "      <th>symbol</th>\n",
       "      <th>open</th>\n",
       "      <th>high</th>\n",
       "      <th>low</th>\n",
       "      <th>close</th>\n",
       "      <th>Volume BTC</th>\n",
       "      <td>Volume EUR</td>\n",
       "    </tr>\n",
       "    <tr>\n",
       "      <th>1672790400</th>\n",
       "      <th>2023-01-04 00:00:00</th>\n",
       "      <th>BTC/EUR</th>\n",
       "      <th>15798</th>\n",
       "      <th>15802</th>\n",
       "      <th>15787</th>\n",
       "      <th>15788</th>\n",
       "      <th>1.65765029</th>\n",
       "      <td>26170.98277852</td>\n",
       "    </tr>\n",
       "    <tr>\n",
       "      <th>1672786800</th>\n",
       "      <th>2023-01-03 23:00:00</th>\n",
       "      <th>BTC/EUR</th>\n",
       "      <th>15783</th>\n",
       "      <th>15806</th>\n",
       "      <th>15783</th>\n",
       "      <th>15801</th>\n",
       "      <th>4.79777073</th>\n",
       "      <td>75809.57530473</td>\n",
       "    </tr>\n",
       "    <tr>\n",
       "      <th>1672783200</th>\n",
       "      <th>2023-01-03 22:00:00</th>\n",
       "      <th>BTC/EUR</th>\n",
       "      <th>15786</th>\n",
       "      <th>15789</th>\n",
       "      <th>15772</th>\n",
       "      <th>15783</th>\n",
       "      <th>3.24313136</th>\n",
       "      <td>51186.34225488</td>\n",
       "    </tr>\n",
       "    <tr>\n",
       "      <th>1672779600</th>\n",
       "      <th>2023-01-03 21:00:00</th>\n",
       "      <th>BTC/EUR</th>\n",
       "      <th>15775</th>\n",
       "      <th>15791</th>\n",
       "      <th>15770</th>\n",
       "      <th>15786</th>\n",
       "      <th>9.63655850</th>\n",
       "      <td>152122.712481</td>\n",
       "    </tr>\n",
       "  </tbody>\n",
       "</table>\n",
       "</div>"
      ],
      "text/plain": [
       "                                                                          https://www.CryptoDataDownload.com\n",
       "unix       date                symbol  open  high  low   close Volume BTC                         Volume EUR\n",
       "1672790400 2023-01-04 00:00:00 BTC/EUR 15798 15802 15787 15788 1.65765029                     26170.98277852\n",
       "1672786800 2023-01-03 23:00:00 BTC/EUR 15783 15806 15783 15801 4.79777073                     75809.57530473\n",
       "1672783200 2023-01-03 22:00:00 BTC/EUR 15786 15789 15772 15783 3.24313136                     51186.34225488\n",
       "1672779600 2023-01-03 21:00:00 BTC/EUR 15775 15791 15770 15786 9.63655850                      152122.712481"
      ]
     },
     "execution_count": 1,
     "metadata": {},
     "output_type": "execute_result"
    }
   ],
   "source": [
    "import pandas as pd\n",
    "\n",
    "df = pd.read_csv('data/BTCEUR_1h.csv')\n",
    "\n",
    "df.head()"
   ]
  },
  {
   "attachments": {},
   "cell_type": "markdown",
   "metadata": {},
   "source": [
    "Looks like, we have a set of different prices and dates. We need to understand that every second and millisecond there is appeared a hundred transactions in the real market, with every currency pair. It's impossible to show all of the price movement in the chart, but we don't need it, it's quite enough to show the result of these transactions in the selected time frame. For example, let's get the first row in our data frame. We are interested in the <span style=\"color:yellow\">open</span> and <span style=\"color:yellow\">close</span> values. Here we can see that the open is 15798 and the close - is 15788, the close is lower than the open which means that we have a downtrend and the candle is red. The high of the candle is the difference between opening and closing. In other words, we can say if the difference is positive - it's a green candle, up trend, if negative - a red candle, downtrend.\n",
    "\n",
    "Example of prices os represented by candles:\n",
    "![candle-example](img/candles-example.png)\n",
    "\n",
    "The thin lines above and under the candle body it's a range of prices in the different timeframes, in other words, the lowest and highest prices in the current timeframe. It's represented by <span style=\"color:yellow\">high</span> and <span style=\"color:yellow\">low</span> values in the data frame.\n",
    "\n",
    "Another important value is <span style=\"color:yellow\">date</span>, we'll use it to manage the order of candles in the chart\n",
    "\n",
    "Other columns like <span style=\"color:yellow\">unix</span>, <span style=\"color:yellow\">Volume BTC</span>, <span style=\"color:yellow\">Volume EUR</span> are not necessary for the chart view and we'll delete them during data cleaning."
   ]
  },
  {
   "attachments": {},
   "cell_type": "markdown",
   "metadata": {},
   "source": [
    "## Data cleaning"
   ]
  },
  {
   "attachments": {},
   "cell_type": "markdown",
   "metadata": {},
   "source": [
    "Before we jump into the cleaning process, let’s take a brief look at the data."
   ]
  },
  {
   "cell_type": "code",
   "execution_count": 2,
   "metadata": {},
   "outputs": [
    {
     "name": "stdout",
     "output_type": "stream",
     "text": [
      "https://www.CryptoDataDownload.com    0.0\n",
      "dtype: float64\n"
     ]
    }
   ],
   "source": [
    "# Find all null values by columns\n",
    "print(df.isnull().mean())"
   ]
  },
  {
   "cell_type": "code",
   "execution_count": 3,
   "metadata": {},
   "outputs": [
    {
     "name": "stdout",
     "output_type": "stream",
     "text": [
      "(40676, 1)\n"
     ]
    }
   ],
   "source": [
    "# Total rows and columns\n",
    "print(df.shape)"
   ]
  },
  {
   "cell_type": "code",
   "execution_count": 4,
   "metadata": {},
   "outputs": [
    {
     "data": {
      "text/html": [
       "<div>\n",
       "<style scoped>\n",
       "    .dataframe tbody tr th:only-of-type {\n",
       "        vertical-align: middle;\n",
       "    }\n",
       "\n",
       "    .dataframe tbody tr th {\n",
       "        vertical-align: top;\n",
       "    }\n",
       "\n",
       "    .dataframe thead th {\n",
       "        text-align: right;\n",
       "    }\n",
       "</style>\n",
       "<table border=\"1\" class=\"dataframe\">\n",
       "  <thead>\n",
       "    <tr style=\"text-align: right;\">\n",
       "      <th></th>\n",
       "      <th></th>\n",
       "      <th></th>\n",
       "      <th></th>\n",
       "      <th></th>\n",
       "      <th></th>\n",
       "      <th></th>\n",
       "      <th></th>\n",
       "      <th>https://www.CryptoDataDownload.com</th>\n",
       "    </tr>\n",
       "  </thead>\n",
       "  <tbody>\n",
       "    <tr>\n",
       "      <th>unix</th>\n",
       "      <th>date</th>\n",
       "      <th>symbol</th>\n",
       "      <th>open</th>\n",
       "      <th>high</th>\n",
       "      <th>low</th>\n",
       "      <th>close</th>\n",
       "      <th>Volume BTC</th>\n",
       "      <td>Volume EUR</td>\n",
       "    </tr>\n",
       "    <tr>\n",
       "      <th>1672790400</th>\n",
       "      <th>2023-01-04 00:00:00</th>\n",
       "      <th>BTC/EUR</th>\n",
       "      <th>15798</th>\n",
       "      <th>15802</th>\n",
       "      <th>15787</th>\n",
       "      <th>15788</th>\n",
       "      <th>1.65765029</th>\n",
       "      <td>26170.98277852</td>\n",
       "    </tr>\n",
       "    <tr>\n",
       "      <th>1672786800</th>\n",
       "      <th>2023-01-03 23:00:00</th>\n",
       "      <th>BTC/EUR</th>\n",
       "      <th>15783</th>\n",
       "      <th>15806</th>\n",
       "      <th>15783</th>\n",
       "      <th>15801</th>\n",
       "      <th>4.79777073</th>\n",
       "      <td>75809.57530473</td>\n",
       "    </tr>\n",
       "    <tr>\n",
       "      <th>1672783200</th>\n",
       "      <th>2023-01-03 22:00:00</th>\n",
       "      <th>BTC/EUR</th>\n",
       "      <th>15786</th>\n",
       "      <th>15789</th>\n",
       "      <th>15772</th>\n",
       "      <th>15783</th>\n",
       "      <th>3.24313136</th>\n",
       "      <td>51186.34225488</td>\n",
       "    </tr>\n",
       "    <tr>\n",
       "      <th>1672779600</th>\n",
       "      <th>2023-01-03 21:00:00</th>\n",
       "      <th>BTC/EUR</th>\n",
       "      <th>15775</th>\n",
       "      <th>15791</th>\n",
       "      <th>15770</th>\n",
       "      <th>15786</th>\n",
       "      <th>9.63655850</th>\n",
       "      <td>152122.712481</td>\n",
       "    </tr>\n",
       "  </tbody>\n",
       "</table>\n",
       "</div>"
      ],
      "text/plain": [
       "                                                                          https://www.CryptoDataDownload.com\n",
       "unix       date                symbol  open  high  low   close Volume BTC                         Volume EUR\n",
       "1672790400 2023-01-04 00:00:00 BTC/EUR 15798 15802 15787 15788 1.65765029                     26170.98277852\n",
       "1672786800 2023-01-03 23:00:00 BTC/EUR 15783 15806 15783 15801 4.79777073                     75809.57530473\n",
       "1672783200 2023-01-03 22:00:00 BTC/EUR 15786 15789 15772 15783 3.24313136                     51186.34225488\n",
       "1672779600 2023-01-03 21:00:00 BTC/EUR 15775 15791 15770 15786 9.63655850                      152122.712481"
      ]
     },
     "execution_count": 4,
     "metadata": {},
     "output_type": "execute_result"
    }
   ],
   "source": [
    "# Take a look on first rows\n",
    "df.head()"
   ]
  },
  {
   "cell_type": "code",
   "execution_count": 5,
   "metadata": {},
   "outputs": [
    {
     "data": {
      "text/html": [
       "<div>\n",
       "<style scoped>\n",
       "    .dataframe tbody tr th:only-of-type {\n",
       "        vertical-align: middle;\n",
       "    }\n",
       "\n",
       "    .dataframe tbody tr th {\n",
       "        vertical-align: top;\n",
       "    }\n",
       "\n",
       "    .dataframe thead th {\n",
       "        text-align: right;\n",
       "    }\n",
       "</style>\n",
       "<table border=\"1\" class=\"dataframe\">\n",
       "  <thead>\n",
       "    <tr style=\"text-align: right;\">\n",
       "      <th></th>\n",
       "      <th></th>\n",
       "      <th></th>\n",
       "      <th></th>\n",
       "      <th></th>\n",
       "      <th></th>\n",
       "      <th></th>\n",
       "      <th></th>\n",
       "      <th>https://www.CryptoDataDownload.com</th>\n",
       "    </tr>\n",
       "  </thead>\n",
       "  <tbody>\n",
       "    <tr>\n",
       "      <th>1526378400</th>\n",
       "      <th>2018-05-15 10:00:00</th>\n",
       "      <th>BTC/EUR</th>\n",
       "      <th>7316.1</th>\n",
       "      <th>7427.72</th>\n",
       "      <th>7296.07</th>\n",
       "      <th>7381.92</th>\n",
       "      <th>707318.62</th>\n",
       "      <td>96.02</td>\n",
       "    </tr>\n",
       "    <tr>\n",
       "      <th>1526374800</th>\n",
       "      <th>2018-05-15 09:00:00</th>\n",
       "      <th>BTC/EUR</th>\n",
       "      <th>7313.2</th>\n",
       "      <th>7347.22</th>\n",
       "      <th>7300.0</th>\n",
       "      <th>7316.1</th>\n",
       "      <th>685687.14</th>\n",
       "      <td>93.52</td>\n",
       "    </tr>\n",
       "    <tr>\n",
       "      <th>1526371200</th>\n",
       "      <th>2018-05-15 08:00:00</th>\n",
       "      <th>BTC/EUR</th>\n",
       "      <th>7339.67</th>\n",
       "      <th>7339.67</th>\n",
       "      <th>7265.4</th>\n",
       "      <th>7313.2</th>\n",
       "      <th>343404.76</th>\n",
       "      <td>47.06</td>\n",
       "    </tr>\n",
       "    <tr>\n",
       "      <th>1526367600</th>\n",
       "      <th>2018-05-15 07:00:00</th>\n",
       "      <th>BTC/EUR</th>\n",
       "      <th>7335.0</th>\n",
       "      <th>7354.32</th>\n",
       "      <th>7306.34</th>\n",
       "      <th>7339.67</th>\n",
       "      <th>181611.86</th>\n",
       "      <td>24.79</td>\n",
       "    </tr>\n",
       "    <tr>\n",
       "      <th>1526364000</th>\n",
       "      <th>2018-05-15 06:00:00</th>\n",
       "      <th>BTC/EUR</th>\n",
       "      <th>7311.2</th>\n",
       "      <th>7390.7</th>\n",
       "      <th>7307.57</th>\n",
       "      <th>7335.0</th>\n",
       "      <th>480389.46</th>\n",
       "      <td>65.38</td>\n",
       "    </tr>\n",
       "  </tbody>\n",
       "</table>\n",
       "</div>"
      ],
      "text/plain": [
       "                                                                                 https://www.CryptoDataDownload.com\n",
       "1526378400 2018-05-15 10:00:00 BTC/EUR 7316.1  7427.72 7296.07 7381.92 707318.62                              96.02\n",
       "1526374800 2018-05-15 09:00:00 BTC/EUR 7313.2  7347.22 7300.0  7316.1  685687.14                              93.52\n",
       "1526371200 2018-05-15 08:00:00 BTC/EUR 7339.67 7339.67 7265.4  7313.2  343404.76                              47.06\n",
       "1526367600 2018-05-15 07:00:00 BTC/EUR 7335.0  7354.32 7306.34 7339.67 181611.86                              24.79\n",
       "1526364000 2018-05-15 06:00:00 BTC/EUR 7311.2  7390.7  7307.57 7335.0  480389.46                              65.38"
      ]
     },
     "execution_count": 5,
     "metadata": {},
     "output_type": "execute_result"
    }
   ],
   "source": [
    "# Take a look on last rows\n",
    "df.tail()"
   ]
  },
  {
   "attachments": {},
   "cell_type": "markdown",
   "metadata": {},
   "source": [
    "From these results, we learn that the dataset has 40675 rows and 9 columns. Of course, it's only a <span style=\"color:yellow\"/>1-hour</span> timeframe dataset, for the <span style=\"color:yellow\"/>1-day</span> it would be fewer rows. We also identify that rows are sorted by date in descending order. And we double-checked that our data frame is already in consist state without null values. These are all useful information.\n",
    "\n",
    "Now we can clean and transform data."
   ]
  },
  {
   "attachments": {},
   "cell_type": "markdown",
   "metadata": {},
   "source": [
    "#### Skip ad link rows\n",
    "\n",
    "The first row in all dataframes is the ad link. Let's drop it in the first place:"
   ]
  },
  {
   "cell_type": "code",
   "execution_count": 6,
   "metadata": {},
   "outputs": [],
   "source": [
    "df = pd.read_csv('data/BTCEUR_1h.csv', skiprows=1)"
   ]
  },
  {
   "attachments": {},
   "cell_type": "markdown",
   "metadata": {},
   "source": [
    "#### Cut unnecessary date\n",
    "\n",
    "In total, we have 40675 rows, and the range of all date is from 2023 to 2018 year. I want to use a shorter range for the demo project. I want to take only the 2019 - 2023 range:"
   ]
  },
  {
   "cell_type": "code",
   "execution_count": 7,
   "metadata": {},
   "outputs": [],
   "source": [
    "df = df[df['date'] > '2018-31-12']"
   ]
  },
  {
   "attachments": {},
   "cell_type": "markdown",
   "metadata": {},
   "source": [
    "#### Reverse data frame\n",
    "\n",
    "Values of date column is ordered in the descent, which is not we need. We want to show price history in the chart chart from the oldest in the left corner to newest in the right conner of chart:"
   ]
  },
  {
   "cell_type": "code",
   "execution_count": 8,
   "metadata": {},
   "outputs": [],
   "source": [
    "df = df.iloc[::-1]"
   ]
  },
  {
   "attachments": {},
   "cell_type": "markdown",
   "metadata": {},
   "source": [
    "#### Drop unnecessary columns\n",
    "\n",
    "Also, as we mentioned before we don't need all columns in data frame to build chart. Let's leave only necessary: <span style=\"color:yellow\"/>data</span>, <span style=\"color:yellow\"/>open</span>, <span style=\"color:yellow\"/>close</span>, <span style=\"color:yellow\"/>high</span>, <span style=\"color:yellow\"/>low</span>:"
   ]
  },
  {
   "cell_type": "code",
   "execution_count": 9,
   "metadata": {},
   "outputs": [],
   "source": [
    "df.drop(['unix', 'Volume {}'.format('BTCEUR'[:3]),\n",
    "            'Volume {}'.format('BTCEUR'[3:6])], axis=1, inplace=True)"
   ]
  },
  {
   "attachments": {},
   "cell_type": "markdown",
   "metadata": {},
   "source": [
    "Now we have cleaned and transformed data."
   ]
  },
  {
   "attachments": {},
   "cell_type": "markdown",
   "metadata": {},
   "source": [
    "## Code implementation"
   ]
  },
  {
   "attachments": {},
   "cell_type": "markdown",
   "metadata": {},
   "source": [
    "Already we have the design and we know how data should be cleaned. In this part, we're going to collect all together and implement the design and cleaned data methods into a functional application. For this prospect we need to split the implementation process into logical parts, which are:\n",
    "\n",
    " - Create Data cleaning methods.\n",
    " - Create methods for HTML tag creation.\n",
    " - Create necessary HTML elements.\n",
    " - Add logic methods for chart and index updates."
   ]
  },
  {
   "attachments": {},
   "cell_type": "markdown",
   "metadata": {},
   "source": [
    "#### Data cleaning and transformation methods"
   ]
  },
  {
   "attachments": {},
   "cell_type": "markdown",
   "metadata": {},
   "source": [
    "We have 8 different data frames that needed to be cleaned. Also, we need to keep in mind that in real life it could be a hundred data frames. So, our data cleaning methods should be agile as possible.\n",
    "\n",
    "First let's create a method that takes the name of the data frame, then retrieve it and cleans it."
   ]
  },
  {
   "cell_type": "code",
   "execution_count": 10,
   "metadata": {},
   "outputs": [],
   "source": [
    "def clear_table(table_name):\n",
    "    \n",
    "    # skip first row with ad link\n",
    "    data = pd.read_csv('data/{}.csv'.format(table_name), skiprows=1)\n",
    "\n",
    "    # delete unnecassery columns\n",
    "    data.drop(['unix', 'Volume {}'.format(table_name[:3]),\n",
    "              'Volume {}'.format(table_name[3:6])], axis=1, inplace=True)\n",
    "\n",
    "    # reverse data frames\n",
    "    data = data.iloc[::-1]\n",
    "\n",
    "    # remove unnecessary data. we need only date starts on 2019\n",
    "    data = data[data['date'] > '2018-31-12']\n",
    "\n",
    "    return data"
   ]
  },
  {
   "attachments": {},
   "cell_type": "markdown",
   "metadata": {},
   "source": [
    "The better way to achieve it is to create a list of data frames and clean it in the loop:"
   ]
  },
  {
   "cell_type": "code",
   "execution_count": 11,
   "metadata": {},
   "outputs": [],
   "source": [
    "def clear_data(array):\n",
    "    data = {}\n",
    "\n",
    "    for elem in array:\n",
    "        data[elem] = clear_table(elem)\n",
    "\n",
    "    return data"
   ]
  },
  {
   "cell_type": "code",
   "execution_count": 12,
   "metadata": {},
   "outputs": [],
   "source": [
    "data = clear_data([\n",
    "    \"BTCEUR_1h\",\n",
    "    \"BTCEUR_d\",\n",
    "    \"BTCUSD_1h\",\n",
    "    \"BTCUSD_d\",\n",
    "    \"ETHBTC_1h\",\n",
    "    \"ETHBTC_d\",\n",
    "    \"ETHEUR_1h\",\n",
    "    \"ETHEUR_d\"\n",
    "])"
   ]
  },
  {
   "attachments": {},
   "cell_type": "markdown",
   "metadata": {},
   "source": [
    "Now we have a dictionary with cleaned data. We'll use it in the next parts."
   ]
  },
  {
   "attachments": {},
   "cell_type": "markdown",
   "metadata": {},
   "source": [
    "#### Methods for HTML creation"
   ]
  },
  {
   "attachments": {},
   "cell_type": "markdown",
   "metadata": {},
   "source": [
    "In this part, we're going to start the creation of basic HTML elements for our application. I don't want to implement CSS styles as well, for running applications, it's not necessary. But in the python file attached to this notebook, you'll find the same methods and HTML tags, but with CSS style implemented in an inline way."
   ]
  },
  {
   "attachments": {},
   "cell_type": "markdown",
   "metadata": {},
   "source": [
    "According to the design, we have dropdowns, radio buttons, and sliders. For these, we need to import a new library - dash. Let's implement it step by step."
   ]
  },
  {
   "cell_type": "code",
   "execution_count": 13,
   "metadata": {},
   "outputs": [],
   "source": [
    "from dash import dcc, html"
   ]
  },
  {
   "cell_type": "code",
   "execution_count": 14,
   "metadata": {},
   "outputs": [],
   "source": [
    "def create_dropdown(title, options, id, value):\n",
    "    \n",
    "    return html.Div([\n",
    "        html.P(title),\n",
    "        dcc.Dropdown(options, id=id, value=value)\n",
    "    ])"
   ]
  },
  {
   "cell_type": "code",
   "execution_count": 15,
   "metadata": {},
   "outputs": [],
   "source": [
    "def create_radiobutton(options, id, value):\n",
    "    return html.Div([\n",
    "        dcc.RadioItems(options, id=id, value=value)\n",
    "    ])"
   ]
  },
  {
   "cell_type": "code",
   "execution_count": 16,
   "metadata": {},
   "outputs": [],
   "source": [
    "def create_slider():\n",
    "    return html.Div([\n",
    "        html.P(id=\"current_range\", children='You current range is:'),\n",
    "\n",
    "        # Slider with initaila values\n",
    "        html.Div([\n",
    "            dcc.RangeSlider(0, 30, 1, value=[\n",
    "                0, 1000], marks=None, id=\"range_slider\")\n",
    "        ], id=\"range_slider_container\"),\n",
    "    ])"
   ]
  },
  {
   "attachments": {},
   "cell_type": "markdown",
   "metadata": {},
   "source": [
    "    Pay attention, in the case of dropdown and radio buttons we created a method for generating new elements. But in the case of the slider, it's only a block of code, that is invoked by the method."
   ]
  },
  {
   "attachments": {},
   "cell_type": "markdown",
   "metadata": {},
   "source": [
    "#### Base HTML elements implementaion"
   ]
  },
  {
   "attachments": {},
   "cell_type": "markdown",
   "metadata": {},
   "source": [
    "Now we are ready to collect all created methods together and start to build our application frame."
   ]
  },
  {
   "cell_type": "code",
   "execution_count": 17,
   "metadata": {},
   "outputs": [],
   "source": [
    "from dash import Dash\n",
    "\n",
    "app = Dash()\n",
    "app.title = \"PF-ICA2\"\n",
    "\n",
    "app.layout = html.Div([\n",
    "    html.H1(\"Financial data screener\"),\n",
    "\n",
    "    html. H3(\n",
    "        \"It's a demo project of plotly dash possobilityes, only for study prospects.\"),\n",
    "\n",
    "    html.Div([\n",
    "        create_dropdown('Currency',\n",
    "                        [\n",
    "                            {'label': 'BTC/EUR', 'value': 'btceur'},\n",
    "                            {'label': 'BTC/USD', 'value': 'btcusd'},\n",
    "                            {'label': 'ETH/BTC', 'value': 'ethbtc'},\n",
    "                            {'label': 'ETH/EUR', 'value': 'etheur'},\n",
    "                        ],\n",
    "                        'coin_pair',\n",
    "                        'btceur'),\n",
    "\n",
    "        create_dropdown('Timeframe', ['day', 'hour'], 'timeframe', 'day'),\n",
    "\n",
    "        create_dropdown(\n",
    "            'Select a year',\n",
    "            [2022, 2021, 2020, 2019],\n",
    "            'select_year',\n",
    "            2022),\n",
    "\n",
    "    ]),\n",
    "\n",
    "    create_slider(),\n",
    "\n",
    "    html.Div([\n",
    "        create_radiobutton(\n",
    "            [\n",
    "                {'label': 'Candles', 'value': 'candles'},\n",
    "                {'label': 'OHLC', 'value': 'ohlc'},\n",
    "                {'label': 'Line', 'value': 'line'}\n",
    "            ],\n",
    "            'chart_type',\n",
    "            'candles'\n",
    "        ),\n",
    "\n",
    "        # plotly_dark - template for dark theme\n",
    "        # plotly - template for light theme\n",
    "        create_radiobutton(\n",
    "            [\n",
    "                {'label': 'Dark', 'value': 'plotly_dark'},\n",
    "                {'label': 'Light', 'value': 'plotly'}\n",
    "            ],\n",
    "            'template',\n",
    "            'plotly'\n",
    "        ),\n",
    "\n",
    "    ]),\n",
    "\n",
    "    dcc.Graph(id=\"candles\"),\n",
    "    dcc.Graph(id=\"indicator\"),\n",
    "])"
   ]
  },
  {
   "attachments": {},
   "cell_type": "markdown",
   "metadata": {},
   "source": [
    "Before adding some logic to control elements, we need to create a method to retrieve the necessary data frame from the library:"
   ]
  },
  {
   "cell_type": "code",
   "execution_count": 18,
   "metadata": {},
   "outputs": [],
   "source": [
    "def get_filter_data(coin_pair, timeframe, select_year):\n",
    "    \n",
    "    # we need to choose which data frame we'll use\n",
    "    if coin_pair == 'btceur':\n",
    "        df = data[\"BTCEUR_1h\"], data[\"BTCEUR_d\"]\n",
    "    elif coin_pair == 'btcusd':\n",
    "        df = data[\"BTCUSD_1h\"], data[\"BTCUSD_d\"]\n",
    "    elif coin_pair == 'ethbtc':\n",
    "        df = data[\"ETHBTC_1h\"], data[\"ETHBTC_d\"]\n",
    "    else:\n",
    "        df = data[\"ETHEUR_1h\"], data[\"ETHEUR_d\"]\n",
    "\n",
    "    # since we have 2 timeframes for each frame we need to chose which one we take\n",
    "    if timeframe == 'hour':\n",
    "        df = df[0]\n",
    "    else:\n",
    "        df = df[1]\n",
    "\n",
    "    # chose the range of data\n",
    "    filtered_df = df.loc[(df['date'] > '{}-12-31 00:00:00'.format(select_year-1))\n",
    "                         & (df['date'] < '{}-01-01 00:00:00'.format(select_year+1))]\n",
    "\n",
    "    return filtered_df"
   ]
  },
  {
   "attachments": {},
   "cell_type": "markdown",
   "metadata": {},
   "source": [
    "#### Logic implementation"
   ]
  },
  {
   "attachments": {},
   "cell_type": "markdown",
   "metadata": {},
   "source": [
    "And now we can add logic. According to our design control elements, like radio buttons and dropdowns used to manage data displayed in charts and sliders. And slider in turn used for managing chart data as well, that's why we can't place all logic in one method, but instead need to have a separate method for updating the slider and separate for updating the chart."
   ]
  },
  {
   "attachments": {},
   "cell_type": "markdown",
   "metadata": {},
   "source": [
    "Let's implement <span style=\"color:yellow\">update_slider</span> method first:"
   ]
  },
  {
   "cell_type": "code",
   "execution_count": 19,
   "metadata": {},
   "outputs": [],
   "source": [
    "from dash import Input, Output\n",
    "\n",
    "@app.callback(\n",
    "    Output(\"range_slider_container\", \"children\"),\n",
    "    Input(\"coin_pair\", \"value\"),\n",
    "    Input(\"timeframe\", \"value\"),\n",
    "    Input(\"select_year\", \"value\"),\n",
    ")\n",
    "def update_slider(coin_pair, timeframe, select_year):\n",
    "    filtered_df = get_filter_data(coin_pair, timeframe, select_year)\n",
    "    \n",
    "    return dcc.RangeSlider(\n",
    "        min=0,\n",
    "        max=int(len(filtered_df)),\n",
    "        step=1,\n",
    "        marks={\n",
    "            0: {'label': filtered_df.iloc[0].date.split(\" \")[0]},\n",
    "            int(len(filtered_df))*0.25: {'label': filtered_df.iloc[int((len(filtered_df) - 1)*0.25)].date.split(\" \")[0]},\n",
    "            int(len(filtered_df))*0.5: {'label': filtered_df.iloc[int((len(filtered_df) - 1)*0.5)].date.split(\" \")[0]},\n",
    "            int(len(filtered_df))*0.75: {'label': filtered_df.iloc[int((len(filtered_df) - 1)*0.75)].date.split(\" \")[0]},\n",
    "            int(len(filtered_df)): {'label': filtered_df.iloc[int(len(filtered_df))-1].date.split(\" \")[0]}\n",
    "        },\n",
    "        value=[0, int(len(filtered_df))],\n",
    "        id=\"range_slider\")"
   ]
  },
  {
   "attachments": {},
   "cell_type": "markdown",
   "metadata": {},
   "source": [
    "Here we used two additional elements from the Dash library, like Input and Output. Also, I want to split the slider into quarters by using marks, that's why we have this part:\n",
    "```python\n",
    "marks = {\n",
    "    0: {'label': filtered_df.iloc[0].date.spl(\" \")[0]},\n",
    "    int(len(filtered_df))*0.25: {'label'filtered_df.iloc[int((len(filtered_df) - *0.25)].date.split(\" \")[0]},\n",
    "    int(len(filtered_df))*0.5: {'label'filtered_df.iloc[int((len(filtered_df) - *0.5)].date.split(\" \")[0]},\n",
    "    int(len(filtered_df))*0.75: {'label'filtered_df.iloc[int((len(filtered_df) - *0.75)].date.split(\" \")[0]},\n",
    "    int(len(filtered_df)): {'label': filtered_diloc[int(len(filtered_df))-1].date.split(\" [0]}\n",
    "}\n",
    "```"
   ]
  },
  {
   "attachments": {},
   "cell_type": "markdown",
   "metadata": {},
   "source": [
    "And <span style=\"color:yellow\">update_chart</span> method:"
   ]
  },
  {
   "cell_type": "code",
   "execution_count": 20,
   "metadata": {},
   "outputs": [],
   "source": [
    "import plotly.graph_objects as go\n",
    "import pandas_ta as ta\n",
    "import plotly.express as px\n",
    "\n",
    "@app.callback(\n",
    "    Output(\"candles\", \"figure\"),\n",
    "    Output(\"current_range\", \"children\"),\n",
    "    Output(\"indicator\", \"figure\"),\n",
    "    Input(\"coin_pair\", \"value\"),\n",
    "    Input(\"timeframe\", \"value\"),\n",
    "    Input(\"range_slider\", \"value\"),\n",
    "    Input(\"chart_type\", \"value\"),\n",
    "    Input(\"select_year\", \"value\"),\n",
    "    Input(\"template\", \"value\")\n",
    ")\n",
    "def update_figure(coin_pair, timeframe, range_slider, chart_type, select_year, template):\n",
    "\n",
    "    filtered_df = get_filter_data(coin_pair, timeframe, select_year)\n",
    "\n",
    "    # Here we choose the length of data frame\n",
    "    ranged_df = filtered_df.iloc[range_slider[0]:range_slider[1]]\n",
    "\n",
    "    message = \"You current range is: {} - {}\".format(ranged_df.iloc[0]['date'].split(\n",
    "        \" \")[0], ranged_df.iloc[-1]['date'].split(\" \")[0])\n",
    "\n",
    "    if chart_type == 'candles':\n",
    "        figure = go.Figure(\n",
    "            data=[\n",
    "                go.Candlestick(\n",
    "                    x=ranged_df['date'],\n",
    "                    open=ranged_df['open'],\n",
    "                    high=ranged_df['high'],\n",
    "                    low=ranged_df['low'],\n",
    "                    close=ranged_df['close']\n",
    "                )\n",
    "            ]\n",
    "        )\n",
    "    elif chart_type == 'ohlc':\n",
    "        figure = go.Figure(\n",
    "            data=[\n",
    "                go.Ohlc(\n",
    "                    x=ranged_df.date,\n",
    "                    open=ranged_df.open,\n",
    "                    high=ranged_df.high,\n",
    "                    low=ranged_df.low,\n",
    "                    close=ranged_df.close\n",
    "                )\n",
    "            ]\n",
    "        )\n",
    "    else:\n",
    "        figure = go.Figure(\n",
    "            [go.Scatter(x=ranged_df.date, y=ranged_df.high)])\n",
    "\n",
    "    figure.update_layout(xaxis_rangeslider_visible=False,\n",
    "                         height=500, template=template)\n",
    "\n",
    "    # Indicator starts here\n",
    "    ranged_df['rsi'] = ta.rsi(ranged_df.close.astype('float'))\n",
    "\n",
    "    # Indicator starts after 14th row\n",
    "    ranged_df = ranged_df.iloc[14:]\n",
    "\n",
    "    indicator = px.line(x=ranged_df.date, y=ranged_df['rsi'])\n",
    "\n",
    "    indicator.update_layout(height=250, template=template, yaxis={\n",
    "                            'title': \"\"}, xaxis={'title': \"\"})\n",
    "\n",
    "    return figure, message, indicator"
   ]
  },
  {
   "attachments": {},
   "cell_type": "markdown",
   "metadata": {},
   "source": [
    "Probably the most complicated part of this application. Here we use new libraries, such as:\n",
    " - pandas_ta - library for indicator displaying\n",
    " - plotly.graph_objects - to build candlesticks and bars chart\n",
    " - plotly.express - to build simple line chart\n",
    "\n",
    "The logic is simple, according to dropdowns we chose which data frame to take and how to filter it. According to radio buttons we chose which chart and theme to use. There are three different charts available: \"Candlesticks\", \"Bars\", and \"Line\" and two themes: Dark and Light.\n",
    "\n",
    "Also, I decided to keep all indicator logic here, only because indicators use the same filtered and ranged data as a chart, and I didn't want to duplicate code with heavy calculation processes in another method when we can do it in one place.\n",
    "\n",
    "Another interesting point about indicators in the technical analysis methods is, the indicator by default takes the first 14 rows of data, and makes a prediction according to it, in another word indicator starts only from the 14th row of the data frame. that's why we have this part of the code:\n",
    "\n",
    "```python\n",
    "    ranged_df = ranged_df.iloc[14:]\n",
    "\n",
    "    indicator = px.line(x=ranged_df.date, y=ranged_df['rsi'])\n",
    "```"
   ]
  },
  {
   "attachments": {},
   "cell_type": "markdown",
   "metadata": {},
   "source": [
    "The last part, code to launch application:"
   ]
  },
  {
   "cell_type": "code",
   "execution_count": null,
   "metadata": {},
   "outputs": [],
   "source": [
    "if __name__ == '__main__':\n",
    "    app.run_server()"
   ]
  },
  {
   "attachments": {},
   "cell_type": "markdown",
   "metadata": {},
   "source": [
    "We've already described the design, data cleaning, and implementation of applications. The working python file with all described methods I'll attach to this report. Also, the deployment process, architecture of the application package, and also choice of tools I'll describe in detail in the technical report, also attached to this notebook."
   ]
  }
 ],
 "metadata": {
  "kernelspec": {
   "display_name": "myvenv",
   "language": "python",
   "name": "python3"
  },
  "language_info": {
   "codemirror_mode": {
    "name": "ipython",
    "version": 3
   },
   "file_extension": ".py",
   "mimetype": "text/x-python",
   "name": "python",
   "nbconvert_exporter": "python",
   "pygments_lexer": "ipython3",
   "version": "3.10.7"
  },
  "orig_nbformat": 4,
  "vscode": {
   "interpreter": {
    "hash": "75e755bc38f4ef94a31cd4a12fcc43dc95266c693c2919e7c45940be381b49f0"
   }
  }
 },
 "nbformat": 4,
 "nbformat_minor": 2
}
