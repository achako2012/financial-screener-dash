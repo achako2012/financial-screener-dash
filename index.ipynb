{
 "cells": [
  {
   "attachments": {},
   "cell_type": "markdown",
   "metadata": {},
   "source": [
    "# Financial screener Data - ICA P2"
   ]
  },
  {
   "attachments": {},
   "cell_type": "markdown",
   "metadata": {},
   "source": [
    "It's a demo project to show possobilityes of [Plotly Dash](https://dash.plotly.com/)"
   ]
  },
  {
   "attachments": {},
   "cell_type": "markdown",
   "metadata": {},
   "source": [
    "## Introduction\n",
    "\n",
    "For the ICA part 2, I decided to make application for screening and analyze financial data of currency exchange market. For my prospective one of the most demanded area of data science is Financial. The finance industry generates lots of data. Big data in finance refers to the petabytes of structured and unstructured data that can be used for creation strategies for business institutions.\n",
    "\n",
    "In these parts I want to describe designe, cleaning data approach, and implement applicaion steps of screen market prices application.\n",
    "\n",
    "Here some examples of the real screning services:\n",
    " - [finviz](https://finviz.com/)\n",
    " - [finance.yahoo](https://finance.yahoo.com/quote/%5EGSPC?p=%5EGSPC)\n",
    " - [investing](https://www.investing.com/equities/apple-computer-inc)\n",
    "\n",
    "Also, in this project, I'll use some principles of technical analysis of the price charts and some special terminology. Anyway, I'll try to describe everything in simple language for a non-technical person. But, if you don't have any understanding of what price charts in the market are, you would find all the basic information in this article: [Understanding Basic Candlestick Charts](https://www.investopedia.com/trading/candlestick-charting-what-is-it/)\n",
    "\n",
    "Since it's only a demo project, we will create something not complicated but with all main features that needed for real price screening application:\n",
    "\n",
    "1. Charts with different display options\n",
    "2. Slider with ability to change date range\n",
    "3. Indicator - another chart with some displayed price analyse\n",
    "4. Data frames with different currency pairs\n",
    "5. Data frames with different timeframes\n",
    "6. Possobility to retrieve data by year from data frame\n",
    "7. \\[Optional\\] Dark and light theme for the chart.\n",
    "\n",
    "Collecting all together, our application designe is:\n",
    "![screener-designe](img/screener-designe.png)\n"
   ]
  },
  {
   "attachments": {},
   "cell_type": "markdown",
   "metadata": {},
   "source": [
    "## Data View\n",
    "\n",
    "The most important thing to find a proper data. I desided to take a real financial data from [BITSTAMP EXCHANGE DATA](https://www.cryptodatadownload.com/data/bitstamp). For demo prospects I took only few currency pairs: <span style=\"color:orange\">\"BTCEUR\"</span>, <span style=\"color:orange\">\"BTCUSD\"</span>, <span style=\"color:orange\">\"ETHBTC\"</span>, and <span style=\"color:orange\">\"ETHEUR\"</span>. Each coin pair represended of two data frames: 1 day timeframe, and 1 hour timeframe. In total we have 8 data frames.\n",
    "\n",
    "Let's import and take a look on one of the data frames:"
   ]
  },
  {
   "cell_type": "code",
   "execution_count": 82,
   "metadata": {},
   "outputs": [
    {
     "data": {
      "text/html": [
       "<div>\n",
       "<style scoped>\n",
       "    .dataframe tbody tr th:only-of-type {\n",
       "        vertical-align: middle;\n",
       "    }\n",
       "\n",
       "    .dataframe tbody tr th {\n",
       "        vertical-align: top;\n",
       "    }\n",
       "\n",
       "    .dataframe thead th {\n",
       "        text-align: right;\n",
       "    }\n",
       "</style>\n",
       "<table border=\"1\" class=\"dataframe\">\n",
       "  <thead>\n",
       "    <tr style=\"text-align: right;\">\n",
       "      <th></th>\n",
       "      <th></th>\n",
       "      <th></th>\n",
       "      <th></th>\n",
       "      <th></th>\n",
       "      <th></th>\n",
       "      <th></th>\n",
       "      <th></th>\n",
       "      <th>https://www.CryptoDataDownload.com</th>\n",
       "    </tr>\n",
       "  </thead>\n",
       "  <tbody>\n",
       "    <tr>\n",
       "      <th>unix</th>\n",
       "      <th>date</th>\n",
       "      <th>symbol</th>\n",
       "      <th>open</th>\n",
       "      <th>high</th>\n",
       "      <th>low</th>\n",
       "      <th>close</th>\n",
       "      <th>Volume BTC</th>\n",
       "      <td>Volume EUR</td>\n",
       "    </tr>\n",
       "    <tr>\n",
       "      <th>1672790400</th>\n",
       "      <th>2023-01-04 00:00:00</th>\n",
       "      <th>BTC/EUR</th>\n",
       "      <th>15798</th>\n",
       "      <th>15802</th>\n",
       "      <th>15787</th>\n",
       "      <th>15788</th>\n",
       "      <th>1.65765029</th>\n",
       "      <td>26170.98277852</td>\n",
       "    </tr>\n",
       "    <tr>\n",
       "      <th>1672786800</th>\n",
       "      <th>2023-01-03 23:00:00</th>\n",
       "      <th>BTC/EUR</th>\n",
       "      <th>15783</th>\n",
       "      <th>15806</th>\n",
       "      <th>15783</th>\n",
       "      <th>15801</th>\n",
       "      <th>4.79777073</th>\n",
       "      <td>75809.57530473</td>\n",
       "    </tr>\n",
       "    <tr>\n",
       "      <th>1672783200</th>\n",
       "      <th>2023-01-03 22:00:00</th>\n",
       "      <th>BTC/EUR</th>\n",
       "      <th>15786</th>\n",
       "      <th>15789</th>\n",
       "      <th>15772</th>\n",
       "      <th>15783</th>\n",
       "      <th>3.24313136</th>\n",
       "      <td>51186.34225488</td>\n",
       "    </tr>\n",
       "    <tr>\n",
       "      <th>1672779600</th>\n",
       "      <th>2023-01-03 21:00:00</th>\n",
       "      <th>BTC/EUR</th>\n",
       "      <th>15775</th>\n",
       "      <th>15791</th>\n",
       "      <th>15770</th>\n",
       "      <th>15786</th>\n",
       "      <th>9.63655850</th>\n",
       "      <td>152122.712481</td>\n",
       "    </tr>\n",
       "  </tbody>\n",
       "</table>\n",
       "</div>"
      ],
      "text/plain": [
       "                                                                          https://www.CryptoDataDownload.com\n",
       "unix       date                symbol  open  high  low   close Volume BTC                         Volume EUR\n",
       "1672790400 2023-01-04 00:00:00 BTC/EUR 15798 15802 15787 15788 1.65765029                     26170.98277852\n",
       "1672786800 2023-01-03 23:00:00 BTC/EUR 15783 15806 15783 15801 4.79777073                     75809.57530473\n",
       "1672783200 2023-01-03 22:00:00 BTC/EUR 15786 15789 15772 15783 3.24313136                     51186.34225488\n",
       "1672779600 2023-01-03 21:00:00 BTC/EUR 15775 15791 15770 15786 9.63655850                      152122.712481"
      ]
     },
     "execution_count": 82,
     "metadata": {},
     "output_type": "execute_result"
    }
   ],
   "source": [
    "import pandas as pd\n",
    "\n",
    "df = pd.read_csv('data/BTCEUR_1h.csv')\n",
    "\n",
    "df.head()"
   ]
  },
  {
   "attachments": {},
   "cell_type": "markdown",
   "metadata": {},
   "source": [
    "Looks like, we have a set of different prices and dates. We need to understand that every second and milisecond there are appeared a hunderd of the transactions in the real market, with every currency pair. It's impossible to show all of the price movement in the chart, but we don't need, it's quite enough to show the result of these transactions in the selected timeframe. For example let's get the firs row in our dataframe. We interested in the <span style=\"color:yellow\">open</span> and <span style=\"color:yellow\">close</span> values. Here we see that open is 15798 and close - 15788, the close is lower then open it mean's that we have down trend and the candle is red. The high of candle is difference beetween open and close. In other words we can say if difference si positive - it's a green candle, up trend, if negative - red candle, down trend.\n",
    "\n",
    "Example of prices represended by candles:\n",
    "![candle-example](img/candles-example.png)\n",
    "\n",
    "The thin lines abowe and under candle body it's a range of price in the different timeframe, in another words lowest and highest price in the current timeframe. It's represented by  <span style=\"color:yellow\">high</span> and  <span style=\"color:yellow\">low</span> values in data frame.\n",
    "\n",
    "Another important value it's date, we'll use it to manage order of candles in the chart\n",
    "\n",
    "Another columns like <span style=\"color:yellow\">unix</span>, <span style=\"color:yellow\">Volume BTC</span>, <span style=\"color:yellow\">Volume EUR</span> are not necassery for the chart view and we'll delete it during data cleaning"
   ]
  },
  {
   "attachments": {},
   "cell_type": "markdown",
   "metadata": {},
   "source": [
    "## Data cleaning"
   ]
  },
  {
   "attachments": {},
   "cell_type": "markdown",
   "metadata": {},
   "source": [
    "Before we jump into the cleaning process, let’s skip first row which is ad link and take a brief look at the data.\n",
    "\n",
    "Before we jump into the cleaning process, let’s take one more look at the data set."
   ]
  },
  {
   "cell_type": "code",
   "execution_count": 83,
   "metadata": {},
   "outputs": [
    {
     "name": "stdout",
     "output_type": "stream",
     "text": [
      "https://www.CryptoDataDownload.com    0.0\n",
      "dtype: float64\n"
     ]
    }
   ],
   "source": [
    "# Find all null values by columns\n",
    "print(df.isnull().mean())"
   ]
  },
  {
   "cell_type": "code",
   "execution_count": 84,
   "metadata": {},
   "outputs": [
    {
     "name": "stdout",
     "output_type": "stream",
     "text": [
      "(40676, 1)\n"
     ]
    }
   ],
   "source": [
    "# Total rows and columns\n",
    "print(df.shape)"
   ]
  },
  {
   "cell_type": "code",
   "execution_count": 85,
   "metadata": {},
   "outputs": [
    {
     "data": {
      "text/html": [
       "<div>\n",
       "<style scoped>\n",
       "    .dataframe tbody tr th:only-of-type {\n",
       "        vertical-align: middle;\n",
       "    }\n",
       "\n",
       "    .dataframe tbody tr th {\n",
       "        vertical-align: top;\n",
       "    }\n",
       "\n",
       "    .dataframe thead th {\n",
       "        text-align: right;\n",
       "    }\n",
       "</style>\n",
       "<table border=\"1\" class=\"dataframe\">\n",
       "  <thead>\n",
       "    <tr style=\"text-align: right;\">\n",
       "      <th></th>\n",
       "      <th></th>\n",
       "      <th></th>\n",
       "      <th></th>\n",
       "      <th></th>\n",
       "      <th></th>\n",
       "      <th></th>\n",
       "      <th></th>\n",
       "      <th>https://www.CryptoDataDownload.com</th>\n",
       "    </tr>\n",
       "  </thead>\n",
       "  <tbody>\n",
       "    <tr>\n",
       "      <th>unix</th>\n",
       "      <th>date</th>\n",
       "      <th>symbol</th>\n",
       "      <th>open</th>\n",
       "      <th>high</th>\n",
       "      <th>low</th>\n",
       "      <th>close</th>\n",
       "      <th>Volume BTC</th>\n",
       "      <td>Volume EUR</td>\n",
       "    </tr>\n",
       "    <tr>\n",
       "      <th>1672790400</th>\n",
       "      <th>2023-01-04 00:00:00</th>\n",
       "      <th>BTC/EUR</th>\n",
       "      <th>15798</th>\n",
       "      <th>15802</th>\n",
       "      <th>15787</th>\n",
       "      <th>15788</th>\n",
       "      <th>1.65765029</th>\n",
       "      <td>26170.98277852</td>\n",
       "    </tr>\n",
       "    <tr>\n",
       "      <th>1672786800</th>\n",
       "      <th>2023-01-03 23:00:00</th>\n",
       "      <th>BTC/EUR</th>\n",
       "      <th>15783</th>\n",
       "      <th>15806</th>\n",
       "      <th>15783</th>\n",
       "      <th>15801</th>\n",
       "      <th>4.79777073</th>\n",
       "      <td>75809.57530473</td>\n",
       "    </tr>\n",
       "    <tr>\n",
       "      <th>1672783200</th>\n",
       "      <th>2023-01-03 22:00:00</th>\n",
       "      <th>BTC/EUR</th>\n",
       "      <th>15786</th>\n",
       "      <th>15789</th>\n",
       "      <th>15772</th>\n",
       "      <th>15783</th>\n",
       "      <th>3.24313136</th>\n",
       "      <td>51186.34225488</td>\n",
       "    </tr>\n",
       "    <tr>\n",
       "      <th>1672779600</th>\n",
       "      <th>2023-01-03 21:00:00</th>\n",
       "      <th>BTC/EUR</th>\n",
       "      <th>15775</th>\n",
       "      <th>15791</th>\n",
       "      <th>15770</th>\n",
       "      <th>15786</th>\n",
       "      <th>9.63655850</th>\n",
       "      <td>152122.712481</td>\n",
       "    </tr>\n",
       "  </tbody>\n",
       "</table>\n",
       "</div>"
      ],
      "text/plain": [
       "                                                                          https://www.CryptoDataDownload.com\n",
       "unix       date                symbol  open  high  low   close Volume BTC                         Volume EUR\n",
       "1672790400 2023-01-04 00:00:00 BTC/EUR 15798 15802 15787 15788 1.65765029                     26170.98277852\n",
       "1672786800 2023-01-03 23:00:00 BTC/EUR 15783 15806 15783 15801 4.79777073                     75809.57530473\n",
       "1672783200 2023-01-03 22:00:00 BTC/EUR 15786 15789 15772 15783 3.24313136                     51186.34225488\n",
       "1672779600 2023-01-03 21:00:00 BTC/EUR 15775 15791 15770 15786 9.63655850                      152122.712481"
      ]
     },
     "execution_count": 85,
     "metadata": {},
     "output_type": "execute_result"
    }
   ],
   "source": [
    "# Take a look on first rows\n",
    "df.head()"
   ]
  },
  {
   "cell_type": "code",
   "execution_count": 86,
   "metadata": {},
   "outputs": [
    {
     "data": {
      "text/html": [
       "<div>\n",
       "<style scoped>\n",
       "    .dataframe tbody tr th:only-of-type {\n",
       "        vertical-align: middle;\n",
       "    }\n",
       "\n",
       "    .dataframe tbody tr th {\n",
       "        vertical-align: top;\n",
       "    }\n",
       "\n",
       "    .dataframe thead th {\n",
       "        text-align: right;\n",
       "    }\n",
       "</style>\n",
       "<table border=\"1\" class=\"dataframe\">\n",
       "  <thead>\n",
       "    <tr style=\"text-align: right;\">\n",
       "      <th></th>\n",
       "      <th></th>\n",
       "      <th></th>\n",
       "      <th></th>\n",
       "      <th></th>\n",
       "      <th></th>\n",
       "      <th></th>\n",
       "      <th></th>\n",
       "      <th>https://www.CryptoDataDownload.com</th>\n",
       "    </tr>\n",
       "  </thead>\n",
       "  <tbody>\n",
       "    <tr>\n",
       "      <th>1526378400</th>\n",
       "      <th>2018-05-15 10:00:00</th>\n",
       "      <th>BTC/EUR</th>\n",
       "      <th>7316.1</th>\n",
       "      <th>7427.72</th>\n",
       "      <th>7296.07</th>\n",
       "      <th>7381.92</th>\n",
       "      <th>707318.62</th>\n",
       "      <td>96.02</td>\n",
       "    </tr>\n",
       "    <tr>\n",
       "      <th>1526374800</th>\n",
       "      <th>2018-05-15 09:00:00</th>\n",
       "      <th>BTC/EUR</th>\n",
       "      <th>7313.2</th>\n",
       "      <th>7347.22</th>\n",
       "      <th>7300.0</th>\n",
       "      <th>7316.1</th>\n",
       "      <th>685687.14</th>\n",
       "      <td>93.52</td>\n",
       "    </tr>\n",
       "    <tr>\n",
       "      <th>1526371200</th>\n",
       "      <th>2018-05-15 08:00:00</th>\n",
       "      <th>BTC/EUR</th>\n",
       "      <th>7339.67</th>\n",
       "      <th>7339.67</th>\n",
       "      <th>7265.4</th>\n",
       "      <th>7313.2</th>\n",
       "      <th>343404.76</th>\n",
       "      <td>47.06</td>\n",
       "    </tr>\n",
       "    <tr>\n",
       "      <th>1526367600</th>\n",
       "      <th>2018-05-15 07:00:00</th>\n",
       "      <th>BTC/EUR</th>\n",
       "      <th>7335.0</th>\n",
       "      <th>7354.32</th>\n",
       "      <th>7306.34</th>\n",
       "      <th>7339.67</th>\n",
       "      <th>181611.86</th>\n",
       "      <td>24.79</td>\n",
       "    </tr>\n",
       "    <tr>\n",
       "      <th>1526364000</th>\n",
       "      <th>2018-05-15 06:00:00</th>\n",
       "      <th>BTC/EUR</th>\n",
       "      <th>7311.2</th>\n",
       "      <th>7390.7</th>\n",
       "      <th>7307.57</th>\n",
       "      <th>7335.0</th>\n",
       "      <th>480389.46</th>\n",
       "      <td>65.38</td>\n",
       "    </tr>\n",
       "  </tbody>\n",
       "</table>\n",
       "</div>"
      ],
      "text/plain": [
       "                                                                                 https://www.CryptoDataDownload.com\n",
       "1526378400 2018-05-15 10:00:00 BTC/EUR 7316.1  7427.72 7296.07 7381.92 707318.62                              96.02\n",
       "1526374800 2018-05-15 09:00:00 BTC/EUR 7313.2  7347.22 7300.0  7316.1  685687.14                              93.52\n",
       "1526371200 2018-05-15 08:00:00 BTC/EUR 7339.67 7339.67 7265.4  7313.2  343404.76                              47.06\n",
       "1526367600 2018-05-15 07:00:00 BTC/EUR 7335.0  7354.32 7306.34 7339.67 181611.86                              24.79\n",
       "1526364000 2018-05-15 06:00:00 BTC/EUR 7311.2  7390.7  7307.57 7335.0  480389.46                              65.38"
      ]
     },
     "execution_count": 86,
     "metadata": {},
     "output_type": "execute_result"
    }
   ],
   "source": [
    "# Take a look on last rows\n",
    "df.tail()"
   ]
  },
  {
   "attachments": {},
   "cell_type": "markdown",
   "metadata": {},
   "source": [
    "From these results, we learn that the dataset has 40675 rows and 9 columns. Of course it's only 1 hour timeframe dataset, for the day it would be less rows. We also identify that rows sorted by date in descent order. And we double checked that our data frame is already in consist state without null values. These are all useful information.\n",
    "\n",
    "Now we can clean and transform data"
   ]
  },
  {
   "attachments": {},
   "cell_type": "markdown",
   "metadata": {},
   "source": [
    "#### Skip ad link rows\n",
    "\n",
    "The first row in all dataframes is ad link. Let's drop it in the first place"
   ]
  },
  {
   "cell_type": "code",
   "execution_count": 92,
   "metadata": {},
   "outputs": [],
   "source": [
    "df = pd.read_csv('data/BTCEUR_1h.csv', skiprows=1)"
   ]
  },
  {
   "attachments": {},
   "cell_type": "markdown",
   "metadata": {},
   "source": [
    "#### Cut unnecessary date\n",
    "\n",
    "In total we have 40675 rows, and range of all date is from 2023 to 2018 year. I want to use a shorter range for the demo project. I want to take only 2019 - 2023 range"
   ]
  },
  {
   "cell_type": "code",
   "execution_count": 88,
   "metadata": {},
   "outputs": [],
   "source": [
    "df = df[df['date'] > '2018-31-12']"
   ]
  },
  {
   "attachments": {},
   "cell_type": "markdown",
   "metadata": {},
   "source": [
    "#### Reverse data frame\n",
    "\n",
    "Values of date column is ordered in the descent, which is not we need. We want to show price history in the chart chart from the oldest in the left to newest in the right conner of chart."
   ]
  },
  {
   "cell_type": "code",
   "execution_count": 89,
   "metadata": {},
   "outputs": [],
   "source": [
    "df = df.iloc[::-1]"
   ]
  },
  {
   "attachments": {},
   "cell_type": "markdown",
   "metadata": {},
   "source": [
    "#### Drop unnecessary columns\n",
    "\n",
    "Also, as we mentioned before we don't need all columns in data frame to build chart. Let's left only necassery: date, open, close, high, low"
   ]
  },
  {
   "cell_type": "code",
   "execution_count": 90,
   "metadata": {},
   "outputs": [],
   "source": [
    "df.drop(['unix', 'Volume {}'.format('BTCEUR'[:3]),\n",
    "            'Volume {}'.format('BTCEUR'[3:6])], axis=1, inplace=True)"
   ]
  }
 ],
 "metadata": {
  "kernelspec": {
   "display_name": "myvenv",
   "language": "python",
   "name": "python3"
  },
  "language_info": {
   "codemirror_mode": {
    "name": "ipython",
    "version": 3
   },
   "file_extension": ".py",
   "mimetype": "text/x-python",
   "name": "python",
   "nbconvert_exporter": "python",
   "pygments_lexer": "ipython3",
   "version": "3.10.7"
  },
  "orig_nbformat": 4,
  "vscode": {
   "interpreter": {
    "hash": "75e755bc38f4ef94a31cd4a12fcc43dc95266c693c2919e7c45940be381b49f0"
   }
  }
 },
 "nbformat": 4,
 "nbformat_minor": 2
}
